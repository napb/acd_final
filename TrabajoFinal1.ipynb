{
 "cells": [
  {
   "cell_type": "code",
   "execution_count": 1,
   "metadata": {
    "collapsed": false,
    "jupyter": {
     "outputs_hidden": false
    },
    "pycharm": {
     "name": "#%%\n"
    }
   },
   "outputs": [
    {
     "name": "stdout",
     "output_type": "stream",
     "text": [
      "Requirement already satisfied: selenium in /opt/anaconda3/envs/aves/lib/python3.8/site-packages (4.1.0)\r\n",
      "Requirement already satisfied: trio~=0.17 in /opt/anaconda3/envs/aves/lib/python3.8/site-packages (from selenium) (0.19.0)\r\n",
      "Requirement already satisfied: trio-websocket~=0.9 in /opt/anaconda3/envs/aves/lib/python3.8/site-packages (from selenium) (0.9.2)\r\n",
      "Requirement already satisfied: urllib3[secure]~=1.26 in /opt/anaconda3/envs/aves/lib/python3.8/site-packages (from selenium) (1.26.7)\r\n",
      "Requirement already satisfied: sortedcontainers in /opt/anaconda3/envs/aves/lib/python3.8/site-packages (from trio~=0.17->selenium) (2.4.0)\r\n",
      "Requirement already satisfied: attrs>=19.2.0 in /opt/anaconda3/envs/aves/lib/python3.8/site-packages (from trio~=0.17->selenium) (21.2.0)\r\n",
      "Requirement already satisfied: sniffio in /opt/anaconda3/envs/aves/lib/python3.8/site-packages (from trio~=0.17->selenium) (1.2.0)\r\n",
      "Requirement already satisfied: async-generator>=1.9 in /opt/anaconda3/envs/aves/lib/python3.8/site-packages (from trio~=0.17->selenium) (1.10)\r\n",
      "Requirement already satisfied: idna in /opt/anaconda3/envs/aves/lib/python3.8/site-packages (from trio~=0.17->selenium) (2.10)\r\n",
      "Requirement already satisfied: outcome in /opt/anaconda3/envs/aves/lib/python3.8/site-packages (from trio~=0.17->selenium) (1.1.0)\r\n",
      "Requirement already satisfied: wsproto>=0.14 in /opt/anaconda3/envs/aves/lib/python3.8/site-packages (from trio-websocket~=0.9->selenium) (1.0.0)\r\n",
      "Requirement already satisfied: cryptography>=1.3.4 in /opt/anaconda3/envs/aves/lib/python3.8/site-packages (from urllib3[secure]~=1.26->selenium) (3.4.8)\r\n",
      "Requirement already satisfied: pyOpenSSL>=0.14 in /opt/anaconda3/envs/aves/lib/python3.8/site-packages (from urllib3[secure]~=1.26->selenium) (21.0.0)\r\n",
      "Requirement already satisfied: certifi in /opt/anaconda3/envs/aves/lib/python3.8/site-packages (from urllib3[secure]~=1.26->selenium) (2021.10.8)\r\n",
      "Requirement already satisfied: cffi>=1.12 in /opt/anaconda3/envs/aves/lib/python3.8/site-packages (from cryptography>=1.3.4->urllib3[secure]~=1.26->selenium) (1.14.6)\r\n",
      "Requirement already satisfied: six>=1.5.2 in /opt/anaconda3/envs/aves/lib/python3.8/site-packages (from pyOpenSSL>=0.14->urllib3[secure]~=1.26->selenium) (1.16.0)\r\n",
      "Requirement already satisfied: h11<1,>=0.9.0 in /opt/anaconda3/envs/aves/lib/python3.8/site-packages (from wsproto>=0.14->trio-websocket~=0.9->selenium) (0.12.0)\r\n",
      "Requirement already satisfied: pycparser in /opt/anaconda3/envs/aves/lib/python3.8/site-packages (from cffi>=1.12->cryptography>=1.3.4->urllib3[secure]~=1.26->selenium) (2.20)\r\n",
      "Requirement already satisfied: webdriver-manager in /opt/anaconda3/envs/aves/lib/python3.8/site-packages (3.5.2)\r\n",
      "Requirement already satisfied: crayons in /opt/anaconda3/envs/aves/lib/python3.8/site-packages (from webdriver-manager) (0.4.0)\r\n",
      "Requirement already satisfied: requests in /opt/anaconda3/envs/aves/lib/python3.8/site-packages (from webdriver-manager) (2.25.1)\r\n",
      "Requirement already satisfied: configparser in /opt/anaconda3/envs/aves/lib/python3.8/site-packages (from webdriver-manager) (5.0.2)\r\n",
      "Requirement already satisfied: colorama in /opt/anaconda3/envs/aves/lib/python3.8/site-packages (from crayons->webdriver-manager) (0.4.4)\r\n",
      "Requirement already satisfied: chardet<5,>=3.0.2 in /opt/anaconda3/envs/aves/lib/python3.8/site-packages (from requests->webdriver-manager) (4.0.0)\r\n",
      "Requirement already satisfied: certifi>=2017.4.17 in /opt/anaconda3/envs/aves/lib/python3.8/site-packages (from requests->webdriver-manager) (2021.10.8)\r\n",
      "Requirement already satisfied: idna<3,>=2.5 in /opt/anaconda3/envs/aves/lib/python3.8/site-packages (from requests->webdriver-manager) (2.10)\r\n",
      "Requirement already satisfied: urllib3<1.27,>=1.21.1 in /opt/anaconda3/envs/aves/lib/python3.8/site-packages (from requests->webdriver-manager) (1.26.7)\r\n"
     ]
    }
   ],
   "source": [
    "!pip install -U selenium\n",
    "!pip install webdriver-manager"
   ]
  },
  {
   "cell_type": "code",
   "execution_count": 2,
   "metadata": {
    "tags": []
   },
   "outputs": [],
   "source": [
    "from selenium import webdriver\n",
    "from webdriver_manager.chrome import ChromeDriverManager\n",
    "import time\n",
    "\n",
    "from selenium.webdriver.common.by import By\n",
    "from selenium.webdriver.support.ui import WebDriverWait \n",
    "from selenium.webdriver.support import expected_conditions as EC\n",
    "\n",
    "import sqlite3\n",
    "import pandas as pd"
   ]
  },
  {
   "cell_type": "code",
   "execution_count": 3,
   "metadata": {
    "collapsed": false,
    "jupyter": {
     "outputs_hidden": false
    },
    "pycharm": {
     "name": "#%%\n"
    }
   },
   "outputs": [],
   "source": [
    "def findBounds(driver, xpath):\n",
    "    inbound = []\n",
    "    for y in driver.find_elements_by_xpath(xpath):\n",
    "        inbound.append(int(y.get_attribute(\"innerHTML\").split(\"$ \",1)[1].strip().replace(\".\", \"\")))\n",
    "\n",
    "    return inbound"
   ]
  },
  {
   "cell_type": "code",
   "execution_count": 4,
   "outputs": [],
   "source": [
    "#def extract():\n",
    "#    conn = sqlite3.connect(\"data/chinook.db\")\n",
    "#    data = pd.read_sql(\"SELECT * FROM invoices i JOIN customers c ON i.CustomerId = c.CustomerId\", conn)\n",
    "#    conn.close()\n",
    "\n",
    "#    return data"
   ],
   "metadata": {
    "collapsed": false,
    "pycharm": {
     "name": "#%%\n"
    }
   }
  },
  {
   "cell_type": "code",
   "execution_count": 5,
   "metadata": {
    "collapsed": false,
    "jupyter": {
     "outputs_hidden": false
    },
    "pycharm": {
     "name": "#%%\n"
    }
   },
   "outputs": [
    {
     "name": "stderr",
     "output_type": "stream",
     "text": [
      "\n",
      "\n",
      "====== WebDriver manager ======\n",
      "Current google-chrome version is 96.0.4664\n",
      "Get LATEST chromedriver version for 96.0.4664 google-chrome\n",
      "Trying to download new driver from https://chromedriver.storage.googleapis.com/96.0.4664.45/chromedriver_mac64.zip\n",
      "Driver has been saved in cache [/Users/nicolas/.wdm/drivers/chromedriver/mac64/96.0.4664.45]\n",
      "/var/folders/ws/sp1qfps14rj2wpf5_71gh44m0000gn/T/ipykernel_2227/2550129201.py:1: DeprecationWarning: executable_path has been deprecated, please pass in a Service object\n",
      "  driver = webdriver.Chrome(ChromeDriverManager().install())\n",
      "/var/folders/ws/sp1qfps14rj2wpf5_71gh44m0000gn/T/ipykernel_2227/2550129201.py:11: DeprecationWarning: find_element_by_* commands are deprecated. Please use find_element() instead\n",
      "  dg_dummy_e = driver.find_element_by_css_selector(\".dg-dummy\")\n",
      "/var/folders/ws/sp1qfps14rj2wpf5_71gh44m0000gn/T/ipykernel_2227/2550129201.py:16: DeprecationWarning: find_element_by_* commands are deprecated. Please use find_element() instead\n",
      "  driver.find_element_by_css_selector(\".dg-typing-results-list-item\").click()\n",
      "/var/folders/ws/sp1qfps14rj2wpf5_71gh44m0000gn/T/ipykernel_2227/2550129201.py:18: DeprecationWarning: find_element_by_* commands are deprecated. Please use find_element() instead\n",
      "  dg_dummy_ref_to = driver.find_element_by_css_selector(\".dg-dummy[ref='to']\")\n",
      "/var/folders/ws/sp1qfps14rj2wpf5_71gh44m0000gn/T/ipykernel_2227/2550129201.py:22: DeprecationWarning: find_element_by_* commands are deprecated. Please use find_element() instead\n",
      "  driver.find_element_by_css_selector(\".dg-typing-results-list-item\").click()\n",
      "/var/folders/ws/sp1qfps14rj2wpf5_71gh44m0000gn/T/ipykernel_2227/2550129201.py:25: DeprecationWarning: find_element_by_* commands are deprecated. Please use find_element() instead\n",
      "  driver.find_element_by_css_selector(\".flatpickr-next-month\").click()\n",
      "/var/folders/ws/sp1qfps14rj2wpf5_71gh44m0000gn/T/ipykernel_2227/2550129201.py:26: DeprecationWarning: find_element_by_* commands are deprecated. Please use find_element() instead\n",
      "  driver.find_element_by_css_selector(\".flatpickr-next-month\").click()\n",
      "/var/folders/ws/sp1qfps14rj2wpf5_71gh44m0000gn/T/ipykernel_2227/2550129201.py:34: DeprecationWarning: find_element_by_* commands are deprecated. Please use find_element() instead\n",
      "  driver.find_element_by_css_selector(\".dg-rounded-primary-btn\").click()\n",
      "/var/folders/ws/sp1qfps14rj2wpf5_71gh44m0000gn/T/ipykernel_2227/2842094250.py:3: DeprecationWarning: find_elements_by_* commands are deprecated. Please use find_elements() instead\n",
      "  for y in driver.find_elements_by_xpath(xpath):\n",
      "/var/folders/ws/sp1qfps14rj2wpf5_71gh44m0000gn/T/ipykernel_2227/2550129201.py:47: DeprecationWarning: find_element_by_* commands are deprecated. Please use find_element() instead\n",
      "  driver.find_element_by_xpath('/html/body/app/div/div/div[2]/div/section/div/dummy-flight/ac-flight-page/div/form[1]/div[1]/section/div[1]/ac-flight-fee-option-list/div[1]/div[2]/i').click()\n"
     ]
    }
   ],
   "source": [
    "driver = webdriver.Chrome(ChromeDriverManager().install())\n",
    "driver.implicitly_wait(3)\n",
    "\n",
    "wait = WebDriverWait(driver, 20)\n",
    "driver.get('https://jetsmart.com/')\n",
    "#time.sleep(3)\n",
    "\n",
    "modal = wait.until(EC.element_to_be_clickable((By.XPATH,\"/html/body/div[1]/main/div[7]/div/div[6]/div/div/div[1]/button/span\")))\n",
    "modal.click()\n",
    "\n",
    "dg_dummy_e = driver.find_element_by_css_selector(\".dg-dummy\")\n",
    "dg_dummy_e.click()\n",
    "time.sleep(1)\n",
    "dg_dummy_e.send_keys(\"scl\")\n",
    "\n",
    "driver.find_element_by_css_selector(\".dg-typing-results-list-item\").click()\n",
    "\n",
    "dg_dummy_ref_to = driver.find_element_by_css_selector(\".dg-dummy[ref='to']\")\n",
    "dg_dummy_ref_to.click()\n",
    "dg_dummy_ref_to.send_keys(\"ari\")\n",
    "\n",
    "driver.find_element_by_css_selector(\".dg-typing-results-list-item\").click()\n",
    "\n",
    "#Se comenta esto para evitar que vaya el mes siguente\n",
    "driver.find_element_by_css_selector(\".flatpickr-next-month\").click()\n",
    "driver.find_element_by_css_selector(\".flatpickr-next-month\").click()\n",
    "\n",
    "from_time = wait.until(EC.element_to_be_clickable((By.XPATH,\"(//span[@aria-label='Febrero 1, 2022'])[1]\")))\n",
    "from_time.click()\n",
    "\n",
    "to_time = wait.until(EC.element_to_be_clickable((By.XPATH,\"(//span[@aria-label='Febrero 28, 2022'])[3]\")))\n",
    "to_time.click()\n",
    "\n",
    "driver.find_element_by_css_selector(\".dg-rounded-primary-btn\").click()\n",
    "\n",
    "#Tiempo que se demora en cargar el booking\n",
    "time.sleep(10)\n",
    "\n",
    "d_outbound = {}\n",
    "d_inbound = {}\n",
    "for i in range(1, 29):\n",
    "    outbound = findBounds(driver, \"/html/body/app/div/div/div[2]/div/section/div/dummy-flight/ac-flight-page/div/form[1]/div[1]/section/div[1]/ac-flight-fee-option-list/div[2]/ul/ac-flight-fee-option/li/div/div/div/div/div[2]/div[2]/ac-flight-fare/div/div[1]/div\")\n",
    "    inbound = findBounds(driver, \"/html/body/app/div/div/div[2]/div/section/div/dummy-flight/ac-flight-page/div/form[1]/div[1]/section/div[2]/ac-flight-fee-option-list/div[2]/ul/ac-flight-fee-option/li/div/div/div/div/div[2]/div[2]/ac-flight-fare/div/div[1]/div\")\n",
    "    d_outbound[i] = outbound\n",
    "    d_inbound[i] = inbound\n",
    "\n",
    "    driver.find_element_by_xpath('/html/body/app/div/div/div[2]/div/section/div/dummy-flight/ac-flight-page/div/form[1]/div[1]/section/div[1]/ac-flight-fee-option-list/div[1]/div[2]/i').click()\n",
    "    time.sleep(10)\n",
    "\n",
    "driver.close()"
   ]
  },
  {
   "cell_type": "code",
   "execution_count": 12,
   "outputs": [],
   "source": [
    "d_outbound_d = [(k, x) for k, v in d_outbound.items() for x in v]\n",
    "d_inbound_d = [(k, x) for k, v in d_inbound.items() for x in v]"
   ],
   "metadata": {
    "collapsed": false,
    "pycharm": {
     "name": "#%%\n"
    }
   }
  },
  {
   "cell_type": "code",
   "execution_count": 13,
   "outputs": [],
   "source": [
    "df_outbound = pd.DataFrame(d_outbound_d, columns=['day', 'ammount'])\n",
    "df_inbound = pd.DataFrame(d_inbound_d, columns=['day', 'ammount'])"
   ],
   "metadata": {
    "collapsed": false,
    "pycharm": {
     "name": "#%%\n"
    }
   }
  },
  {
   "cell_type": "code",
   "execution_count": 8,
   "outputs": [
    {
     "data": {
      "text/plain": "    day  ammount\n0     1    29000\n1     1    46000\n2     2    34000\n3     3    46000\n4     4    46000\n5     5    39000\n6     5    46000\n7     6    34000\n8     7    39000\n9     8    34000\n10    8    46000\n11    9    34000\n12   10    52000\n13   11    46000\n14   12    34000\n15   12    46000\n16   13    29000\n17   14    29000\n18   15    34000\n19   15    46000\n20   16    25000\n21   17    46000\n22   18    25000\n23   19    29000\n24   19    39000\n25   20    25000\n26   21    25000\n27   22    25000\n28   22    39000\n29   23    25000\n30   24    39000\n31   25    25000\n32   26    29000\n33   26    39000\n34   27    25000\n35   28    25000",
      "text/html": "<div>\n<style scoped>\n    .dataframe tbody tr th:only-of-type {\n        vertical-align: middle;\n    }\n\n    .dataframe tbody tr th {\n        vertical-align: top;\n    }\n\n    .dataframe thead th {\n        text-align: right;\n    }\n</style>\n<table border=\"1\" class=\"dataframe\">\n  <thead>\n    <tr style=\"text-align: right;\">\n      <th></th>\n      <th>day</th>\n      <th>ammount</th>\n    </tr>\n  </thead>\n  <tbody>\n    <tr>\n      <th>0</th>\n      <td>1</td>\n      <td>29000</td>\n    </tr>\n    <tr>\n      <th>1</th>\n      <td>1</td>\n      <td>46000</td>\n    </tr>\n    <tr>\n      <th>2</th>\n      <td>2</td>\n      <td>34000</td>\n    </tr>\n    <tr>\n      <th>3</th>\n      <td>3</td>\n      <td>46000</td>\n    </tr>\n    <tr>\n      <th>4</th>\n      <td>4</td>\n      <td>46000</td>\n    </tr>\n    <tr>\n      <th>5</th>\n      <td>5</td>\n      <td>39000</td>\n    </tr>\n    <tr>\n      <th>6</th>\n      <td>5</td>\n      <td>46000</td>\n    </tr>\n    <tr>\n      <th>7</th>\n      <td>6</td>\n      <td>34000</td>\n    </tr>\n    <tr>\n      <th>8</th>\n      <td>7</td>\n      <td>39000</td>\n    </tr>\n    <tr>\n      <th>9</th>\n      <td>8</td>\n      <td>34000</td>\n    </tr>\n    <tr>\n      <th>10</th>\n      <td>8</td>\n      <td>46000</td>\n    </tr>\n    <tr>\n      <th>11</th>\n      <td>9</td>\n      <td>34000</td>\n    </tr>\n    <tr>\n      <th>12</th>\n      <td>10</td>\n      <td>52000</td>\n    </tr>\n    <tr>\n      <th>13</th>\n      <td>11</td>\n      <td>46000</td>\n    </tr>\n    <tr>\n      <th>14</th>\n      <td>12</td>\n      <td>34000</td>\n    </tr>\n    <tr>\n      <th>15</th>\n      <td>12</td>\n      <td>46000</td>\n    </tr>\n    <tr>\n      <th>16</th>\n      <td>13</td>\n      <td>29000</td>\n    </tr>\n    <tr>\n      <th>17</th>\n      <td>14</td>\n      <td>29000</td>\n    </tr>\n    <tr>\n      <th>18</th>\n      <td>15</td>\n      <td>34000</td>\n    </tr>\n    <tr>\n      <th>19</th>\n      <td>15</td>\n      <td>46000</td>\n    </tr>\n    <tr>\n      <th>20</th>\n      <td>16</td>\n      <td>25000</td>\n    </tr>\n    <tr>\n      <th>21</th>\n      <td>17</td>\n      <td>46000</td>\n    </tr>\n    <tr>\n      <th>22</th>\n      <td>18</td>\n      <td>25000</td>\n    </tr>\n    <tr>\n      <th>23</th>\n      <td>19</td>\n      <td>29000</td>\n    </tr>\n    <tr>\n      <th>24</th>\n      <td>19</td>\n      <td>39000</td>\n    </tr>\n    <tr>\n      <th>25</th>\n      <td>20</td>\n      <td>25000</td>\n    </tr>\n    <tr>\n      <th>26</th>\n      <td>21</td>\n      <td>25000</td>\n    </tr>\n    <tr>\n      <th>27</th>\n      <td>22</td>\n      <td>25000</td>\n    </tr>\n    <tr>\n      <th>28</th>\n      <td>22</td>\n      <td>39000</td>\n    </tr>\n    <tr>\n      <th>29</th>\n      <td>23</td>\n      <td>25000</td>\n    </tr>\n    <tr>\n      <th>30</th>\n      <td>24</td>\n      <td>39000</td>\n    </tr>\n    <tr>\n      <th>31</th>\n      <td>25</td>\n      <td>25000</td>\n    </tr>\n    <tr>\n      <th>32</th>\n      <td>26</td>\n      <td>29000</td>\n    </tr>\n    <tr>\n      <th>33</th>\n      <td>26</td>\n      <td>39000</td>\n    </tr>\n    <tr>\n      <th>34</th>\n      <td>27</td>\n      <td>25000</td>\n    </tr>\n    <tr>\n      <th>35</th>\n      <td>28</td>\n      <td>25000</td>\n    </tr>\n  </tbody>\n</table>\n</div>"
     },
     "execution_count": 8,
     "metadata": {},
     "output_type": "execute_result"
    }
   ],
   "source": [
    "df_outbound"
   ],
   "metadata": {
    "collapsed": false,
    "pycharm": {
     "name": "#%%\n"
    }
   }
  },
  {
   "cell_type": "code",
   "execution_count": 9,
   "outputs": [
    {
     "data": {
      "text/plain": "    day  ammount\n0     1    25000\n1     2    25000\n2     3    25000\n3     4    25000\n4     5    25000\n5     6    25000\n6     7    25000\n7     8    25000\n8     9    25000\n9    10    25000\n10   11    25000\n11   12    25000\n12   13    25000\n13   14    25000\n14   15    25000\n15   16    25000\n16   17    25000\n17   18    25000\n18   19    25000\n19   20    25000\n20   21    25000\n21   22    25000\n22   23    25000\n23   24    25000\n24   25    25000\n25   26    25000\n26   27    25000\n27   28    25000",
      "text/html": "<div>\n<style scoped>\n    .dataframe tbody tr th:only-of-type {\n        vertical-align: middle;\n    }\n\n    .dataframe tbody tr th {\n        vertical-align: top;\n    }\n\n    .dataframe thead th {\n        text-align: right;\n    }\n</style>\n<table border=\"1\" class=\"dataframe\">\n  <thead>\n    <tr style=\"text-align: right;\">\n      <th></th>\n      <th>day</th>\n      <th>ammount</th>\n    </tr>\n  </thead>\n  <tbody>\n    <tr>\n      <th>0</th>\n      <td>1</td>\n      <td>25000</td>\n    </tr>\n    <tr>\n      <th>1</th>\n      <td>2</td>\n      <td>25000</td>\n    </tr>\n    <tr>\n      <th>2</th>\n      <td>3</td>\n      <td>25000</td>\n    </tr>\n    <tr>\n      <th>3</th>\n      <td>4</td>\n      <td>25000</td>\n    </tr>\n    <tr>\n      <th>4</th>\n      <td>5</td>\n      <td>25000</td>\n    </tr>\n    <tr>\n      <th>5</th>\n      <td>6</td>\n      <td>25000</td>\n    </tr>\n    <tr>\n      <th>6</th>\n      <td>7</td>\n      <td>25000</td>\n    </tr>\n    <tr>\n      <th>7</th>\n      <td>8</td>\n      <td>25000</td>\n    </tr>\n    <tr>\n      <th>8</th>\n      <td>9</td>\n      <td>25000</td>\n    </tr>\n    <tr>\n      <th>9</th>\n      <td>10</td>\n      <td>25000</td>\n    </tr>\n    <tr>\n      <th>10</th>\n      <td>11</td>\n      <td>25000</td>\n    </tr>\n    <tr>\n      <th>11</th>\n      <td>12</td>\n      <td>25000</td>\n    </tr>\n    <tr>\n      <th>12</th>\n      <td>13</td>\n      <td>25000</td>\n    </tr>\n    <tr>\n      <th>13</th>\n      <td>14</td>\n      <td>25000</td>\n    </tr>\n    <tr>\n      <th>14</th>\n      <td>15</td>\n      <td>25000</td>\n    </tr>\n    <tr>\n      <th>15</th>\n      <td>16</td>\n      <td>25000</td>\n    </tr>\n    <tr>\n      <th>16</th>\n      <td>17</td>\n      <td>25000</td>\n    </tr>\n    <tr>\n      <th>17</th>\n      <td>18</td>\n      <td>25000</td>\n    </tr>\n    <tr>\n      <th>18</th>\n      <td>19</td>\n      <td>25000</td>\n    </tr>\n    <tr>\n      <th>19</th>\n      <td>20</td>\n      <td>25000</td>\n    </tr>\n    <tr>\n      <th>20</th>\n      <td>21</td>\n      <td>25000</td>\n    </tr>\n    <tr>\n      <th>21</th>\n      <td>22</td>\n      <td>25000</td>\n    </tr>\n    <tr>\n      <th>22</th>\n      <td>23</td>\n      <td>25000</td>\n    </tr>\n    <tr>\n      <th>23</th>\n      <td>24</td>\n      <td>25000</td>\n    </tr>\n    <tr>\n      <th>24</th>\n      <td>25</td>\n      <td>25000</td>\n    </tr>\n    <tr>\n      <th>25</th>\n      <td>26</td>\n      <td>25000</td>\n    </tr>\n    <tr>\n      <th>26</th>\n      <td>27</td>\n      <td>25000</td>\n    </tr>\n    <tr>\n      <th>27</th>\n      <td>28</td>\n      <td>25000</td>\n    </tr>\n  </tbody>\n</table>\n</div>"
     },
     "execution_count": 9,
     "metadata": {},
     "output_type": "execute_result"
    }
   ],
   "source": [
    "df_inbound"
   ],
   "metadata": {
    "collapsed": false,
    "pycharm": {
     "name": "#%%\n"
    }
   }
  },
  {
   "cell_type": "code",
   "execution_count": 14,
   "outputs": [],
   "source": [
    "import sqlite3\n",
    "from sqlite3 import Error\n",
    "\n",
    "def sql_connection():\n",
    "    try:\n",
    "        con = sqlite3.connect('jetsmart.db')\n",
    "        return con\n",
    "    except Error:\n",
    "        print(Error)"
   ],
   "metadata": {
    "collapsed": false,
    "pycharm": {
     "name": "#%%\n"
    }
   }
  },
  {
   "cell_type": "code",
   "execution_count": 15,
   "outputs": [],
   "source": [
    "conn = sql_connection()\n",
    "df_outbound.to_sql(name=\"outbound\", con=conn)\n",
    "df_inbound.to_sql(name=\"inbound\", con=conn)"
   ],
   "metadata": {
    "collapsed": false,
    "pycharm": {
     "name": "#%%\n"
    }
   }
  },
  {
   "cell_type": "code",
   "execution_count": 16,
   "outputs": [
    {
     "name": "stdout",
     "output_type": "stream",
     "text": [
      "dia maximo: (1, 29000)\n",
      "dia maximo: (2, 34000)\n",
      "dia maximo: (3, 46000)\n",
      "dia maximo: (4, 46000)\n",
      "dia maximo: (5, 39000)\n",
      "dia maximo: (6, 34000)\n",
      "dia maximo: (7, 39000)\n",
      "dia maximo: (8, 34000)\n",
      "dia maximo: (9, 34000)\n",
      "dia maximo: (10, 52000)\n",
      "dia maximo: (11, 46000)\n",
      "dia maximo: (12, 34000)\n",
      "dia maximo: (13, 29000)\n",
      "dia maximo: (14, 29000)\n",
      "dia maximo: (15, 34000)\n",
      "dia maximo: (16, 25000)\n",
      "dia maximo: (17, 46000)\n",
      "dia maximo: (18, 25000)\n",
      "dia maximo: (19, 29000)\n",
      "dia maximo: (20, 25000)\n",
      "dia maximo: (21, 25000)\n",
      "dia maximo: (22, 25000)\n",
      "dia maximo: (23, 25000)\n",
      "dia maximo: (24, 39000)\n",
      "dia maximo: (25, 25000)\n",
      "dia maximo: (26, 29000)\n",
      "dia maximo: (27, 25000)\n",
      "dia maximo: (28, 25000)\n"
     ]
    }
   ],
   "source": [
    "conn = sql_connection()\n",
    "cursor = conn.cursor()\n",
    "for i in cursor.execute('SELECT o.day as day, MIN(o.ammount) as minn FROM outbound o GROUP BY day').fetchall():\n",
    "    print(\"dia maximo:\", i)"
   ],
   "metadata": {
    "collapsed": false,
    "pycharm": {
     "name": "#%%\n"
    }
   }
  },
  {
   "cell_type": "code",
   "execution_count": 17,
   "outputs": [
    {
     "name": "stdout",
     "output_type": "stream",
     "text": [
      "dia minimo: (1, 25000)\n",
      "dia minimo: (2, 25000)\n",
      "dia minimo: (3, 25000)\n",
      "dia minimo: (4, 25000)\n",
      "dia minimo: (5, 25000)\n",
      "dia minimo: (6, 25000)\n",
      "dia minimo: (7, 25000)\n",
      "dia minimo: (8, 25000)\n",
      "dia minimo: (9, 25000)\n",
      "dia minimo: (10, 25000)\n",
      "dia minimo: (11, 25000)\n",
      "dia minimo: (12, 25000)\n",
      "dia minimo: (13, 25000)\n",
      "dia minimo: (14, 25000)\n",
      "dia minimo: (15, 25000)\n",
      "dia minimo: (16, 25000)\n",
      "dia minimo: (17, 25000)\n",
      "dia minimo: (18, 25000)\n",
      "dia minimo: (19, 25000)\n",
      "dia minimo: (20, 25000)\n",
      "dia minimo: (21, 25000)\n",
      "dia minimo: (22, 25000)\n",
      "dia minimo: (23, 25000)\n",
      "dia minimo: (24, 25000)\n",
      "dia minimo: (25, 25000)\n",
      "dia minimo: (26, 25000)\n",
      "dia minimo: (27, 25000)\n",
      "dia minimo: (28, 25000)\n"
     ]
    }
   ],
   "source": [
    "conn = sql_connection()\n",
    "cursor = conn.cursor()\n",
    "for i in cursor.execute('SELECT i.day as day, MIN(i.ammount) as minn FROM inbound i GROUP BY day').fetchall():\n",
    "    print(\"dia minimo:\", i)"
   ],
   "metadata": {
    "collapsed": false,
    "pycharm": {
     "name": "#%%\n"
    }
   }
  }
 ],
 "metadata": {
  "kernelspec": {
   "display_name": "Python 3 (ipykernel)",
   "language": "python",
   "name": "python3"
  },
  "language_info": {
   "codemirror_mode": {
    "name": "ipython",
    "version": 3
   },
   "file_extension": ".py",
   "mimetype": "text/x-python",
   "name": "python",
   "nbconvert_exporter": "python",
   "pygments_lexer": "ipython3",
   "version": "3.8.2"
  }
 },
 "nbformat": 4,
 "nbformat_minor": 4
}